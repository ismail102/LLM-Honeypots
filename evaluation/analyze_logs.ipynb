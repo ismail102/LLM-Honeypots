{
 "cells": [
  {
   "cell_type": "markdown",
   "id": "a8fe8d0b",
   "metadata": {},
   "source": [
    "# 📊 LLM-Honeypots Evaluation\n",
    "This notebook analyzes logs from adversarial LLM attack simulations and evaluates key metrics such as SDR (Success Disruption Rate), CCS (Command Confusion Score), and Stealthiness."
   ]
  },
  {
   "cell_type": "code",
   "execution_count": null,
   "id": "e26de342",
   "metadata": {},
   "outputs": [],
   "source": [
    "import pandas as pd\n",
    "import matplotlib.pyplot as plt\n",
    "import seaborn as sns\n",
    "\n",
    "# Set plotting style\n",
    "sns.set(style=\"whitegrid\")\n"
   ]
  },
  {
   "cell_type": "markdown",
   "id": "d791a197",
   "metadata": {},
   "source": [
    "## 📥 Load the Log File"
   ]
  },
  {
   "cell_type": "code",
   "execution_count": null,
   "id": "77bb4769",
   "metadata": {},
   "outputs": [],
   "source": [
    "# Update path to your actual CSV log\n",
    "log_path = \"../logs/attack_logs.csv\"\n",
    "\n",
    "df = pd.read_csv(log_path)\n",
    "print(\"Log Preview:\")\n",
    "df.head()"
   ]
  },
  {
   "cell_type": "markdown",
   "id": "67379ded",
   "metadata": {},
   "source": [
    "## ✅ Success Disruption Rate (SDR)"
   ]
  },
  {
   "cell_type": "code",
   "execution_count": null,
   "id": "5cf39444",
   "metadata": {},
   "outputs": [],
   "source": [
    "sdr = df['sdr'].mean() * 100\n",
    "print(f\"Success Disruption Rate (SDR): {sdr:.2f}%\")\n",
    "\n",
    "plt.figure(figsize=(5, 1.5))\n",
    "sns.barplot(x=[sdr], y=[\"SDR\"], palette=\"Greens_d\")\n",
    "plt.xlim(0, 100)\n",
    "plt.xlabel(\"Success Disruption Rate (%)\")\n",
    "plt.title(\"Attack Disruption Effectiveness\")\n",
    "plt.show()"
   ]
  },
  {
   "cell_type": "markdown",
   "id": "03937082",
   "metadata": {},
   "source": [
    "## 🤯 Command Confusion Score (CCS)"
   ]
  },
  {
   "cell_type": "code",
   "execution_count": null,
   "id": "b09cf0fc",
   "metadata": {},
   "outputs": [],
   "source": [
    "plt.figure(figsize=(6, 4))\n",
    "sns.histplot(df['ccs'], bins=10, kde=True, color=\"coral\")\n",
    "plt.title(\"Distribution of Command Confusion Scores (CCS)\")\n",
    "plt.xlabel(\"Confusion Score (1 = clear, 5 = total failure)\")\n",
    "plt.ylabel(\"Frequency\")\n",
    "plt.show()\n",
    "\n",
    "print(f\"Average CCS: {df['ccs'].mean():.2f}\")"
   ]
  },
  {
   "cell_type": "markdown",
   "id": "004ecf5a",
   "metadata": {},
   "source": [
    "## 🕵️ Stealthiness Index"
   ]
  },
  {
   "cell_type": "code",
   "execution_count": null,
   "id": "15c52ddc",
   "metadata": {},
   "outputs": [],
   "source": [
    "plt.figure(figsize=(6, 4))\n",
    "sns.boxplot(data=df, y='stealth_score', color=\"skyblue\")\n",
    "plt.title(\"Stealthiness of Prompt Injections\")\n",
    "plt.ylabel(\"Stealth Score (0 = obvious, 1 = fully stealth)\")\n",
    "plt.show()\n",
    "\n",
    "print(f\"Mean Stealth Score: {df['stealth_score'].mean():.2f}\")"
   ]
  }
 ],
 "metadata": {},
 "nbformat": 4,
 "nbformat_minor": 5
}
